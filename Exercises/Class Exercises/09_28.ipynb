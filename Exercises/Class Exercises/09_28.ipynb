{
 "cells": [
  {
   "cell_type": "markdown",
   "metadata": {},
   "source": [
    "## Section 5, Exercise 3:\n",
    "\n",
    "Write a program that randomly picks a point (x,y) in the square region given by $x\\in (0,1)$ and $y\\in (0,1)$. Pick 100 random points this way, and compute the probability that your point falls in the regiion $(x,y) \\in ((0,0.5),(0.5,1))$"
   ]
  },
  {
   "cell_type": "code",
   "execution_count": 3,
   "metadata": {},
   "outputs": [],
   "source": [
    "import random as rd\n",
    "import numpy as np"
   ]
  },
  {
   "cell_type": "code",
   "execution_count": 6,
   "metadata": {},
   "outputs": [
    {
     "name": "stdout",
     "output_type": "stream",
     "text": [
      "Measured probability of (x,y) landing within bounded region defined by 0<x<0.5 and 0.5<y<1 is: 0.2\n"
     ]
    }
   ],
   "source": [
    "import random as rd\n",
    "import numpy as np\n",
    "\n",
    "ntrials = 100\n",
    "\n",
    "captured = 0\n",
    "for _ in range(ntrials):\n",
    "    x = rd.random()\n",
    "    y = rd.random()\n",
    "\n",
    "    if 0<x<0.5 and 0.5<y<1:\n",
    "        captured += 1\n",
    "\n",
    "probability = captured/ntrials\n",
    "\n",
    "print(f\"Measured probability of (x,y) landing within bounded region defined by 0<x<0.5 and 0.5<y<1 is: {probability}\")"
   ]
  },
  {
   "cell_type": "markdown",
   "metadata": {},
   "source": [
    "## Section 5, Exercise 4:\n",
    "\n",
    "Write a program to calculate the integral of the function $f(x)=x^2$ from $x=-1$ to $x=2$ using the Monte Carlo method or the Mean Value method (your choice)"
   ]
  },
  {
   "cell_type": "code",
   "execution_count": 7,
   "metadata": {},
   "outputs": [
    {
     "name": "stdout",
     "output_type": "stream",
     "text": [
      "Answer after  1000000 points =  3.0025047633577233\n"
     ]
    }
   ],
   "source": [
    "import random as rd\n",
    "import math\n",
    "\n",
    "\n",
    "def f(x):\n",
    "    return x**2\n",
    "\n",
    "rd.seed(1)\n",
    "\n",
    "n=10**6\n",
    "a=-1\n",
    "b=2\n",
    "s=0\n",
    "for i in range(n):\n",
    "    x=rd.uniform(a,b)\n",
    "    s += ((b-a)/n)*f(x)\n",
    "\n",
    "print(\"Answer after \",n,\"points = \",s)\n"
   ]
  },
  {
   "cell_type": "code",
   "execution_count": null,
   "metadata": {},
   "outputs": [],
   "source": []
  }
 ],
 "metadata": {
  "kernelspec": {
   "display_name": "slac_env",
   "language": "python",
   "name": "python3"
  },
  "language_info": {
   "codemirror_mode": {
    "name": "ipython",
    "version": 3
   },
   "file_extension": ".py",
   "mimetype": "text/x-python",
   "name": "python",
   "nbconvert_exporter": "python",
   "pygments_lexer": "ipython3",
   "version": "3.11.4"
  },
  "orig_nbformat": 4
 },
 "nbformat": 4,
 "nbformat_minor": 2
}
