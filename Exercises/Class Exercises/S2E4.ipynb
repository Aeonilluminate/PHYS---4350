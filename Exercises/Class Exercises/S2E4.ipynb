{
 "cells": [
  {
   "cell_type": "code",
   "execution_count": 4,
   "metadata": {},
   "outputs": [],
   "source": [
    "import numpy as np\n",
    "import random"
   ]
  },
  {
   "cell_type": "code",
   "execution_count": 5,
   "metadata": {},
   "outputs": [
    {
     "name": "stdout",
     "output_type": "stream",
     "text": [
      "[724, 646, 964, 97, 341, 806, 898, 475, 412, 422, 747, 722, 416, 172, 971, 286, 784, 954, 274, 839, 88, 488, 293, 823, 966, 741, 23, 440, 604, 840, 912, 222, 962, 669, 764, 459, 620, 689, 129, 690, 173, 725, 677, 70, 399, 598, 649, 809, 407, 119, 773, 933, 893, 611, 539, 555, 276, 199, 450, 749, 32, 951, 681, 829, 35, 346, 922, 524, 409, 708, 555, 66, 403, 518, 128, 296, 820, 847, 444, 317, 169, 876, 972, 553, 159, 631, 184, 485, 236, 49, 532, 70, 752, 301, 792, 84, 794, 279, 620, 313]\n"
     ]
    }
   ],
   "source": [
    "list_num = [random.randint(1, 1000) for _ in range(100)]\n",
    "\n",
    "print(list_num)"
   ]
  },
  {
   "cell_type": "code",
   "execution_count": 10,
   "metadata": {},
   "outputs": [
    {
     "name": "stdout",
     "output_type": "stream",
     "text": [
      "(23, 26)\n"
     ]
    }
   ],
   "source": [
    "target = 5\n",
    "diff = float('inf')\n",
    "closest = None\n",
    "for i, n in enumerate(list_num):\n",
    "    if abs(n-target) < diff:\n",
    "        diff = abs(n-target)\n",
    "        closest = (n, i)\n",
    "\n",
    "print(closest)\n"
   ]
  },
  {
   "cell_type": "markdown",
   "metadata": {},
   "source": [
    "Forward differentiation:"
   ]
  },
  {
   "cell_type": "code",
   "execution_count": 18,
   "metadata": {},
   "outputs": [
    {
     "name": "stdout",
     "output_type": "stream",
     "text": [
      "\n",
      "Approximate value: 0.31251250024871835\n",
      "True value : 0.3125\n",
      "Absolute Difference: 1.2500248718350093e-05\n"
     ]
    }
   ],
   "source": [
    "f = lambda x: x**5\n",
    "fp = lambda x: 5*x**4\n",
    "h = 1e-5\n",
    "x = 0.5\n",
    "\n",
    "def derivative(f, h, x):\n",
    "    return (f(x+h) - f(x))/h\n",
    "\n",
    "approx = derivative(f=f, h=h, x=x)\n",
    "true = fp(x)\n",
    "\n",
    "print(f'''\n",
    "Approximate value: {approx}\n",
    "True value : {true}\n",
    "Absolute Difference: {abs(true-approx)}''')"
   ]
  },
  {
   "cell_type": "code",
   "execution_count": null,
   "metadata": {},
   "outputs": [],
   "source": []
  }
 ],
 "metadata": {
  "kernelspec": {
   "display_name": "slac_env",
   "language": "python",
   "name": "python3"
  },
  "language_info": {
   "codemirror_mode": {
    "name": "ipython",
    "version": 3
   },
   "file_extension": ".py",
   "mimetype": "text/x-python",
   "name": "python",
   "nbconvert_exporter": "python",
   "pygments_lexer": "ipython3",
   "version": "3.11.4"
  },
  "orig_nbformat": 4
 },
 "nbformat": 4,
 "nbformat_minor": 2
}
