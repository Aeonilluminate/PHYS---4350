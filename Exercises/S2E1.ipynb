{
 "cells": [
  {
   "cell_type": "code",
   "execution_count": 2,
   "metadata": {},
   "outputs": [],
   "source": [
    "import math\n",
    "import matplotlib.pyplot as plt\n",
    "import numpy as np"
   ]
  },
  {
   "cell_type": "markdown",
   "metadata": {},
   "source": [
    "Find the area of a trapezoid given two input values and a mapping"
   ]
  },
  {
   "cell_type": "code",
   "execution_count": 3,
   "metadata": {},
   "outputs": [],
   "source": [
    "def trap_area(x1, x2, f):\n",
    "    dx = abs(x2 - x1)\n",
    "    avg_height = 0.5 * (f(x1) + f(x2))\n",
    "\n",
    "    area = dx * avg_height\n",
    "\n",
    "    return area"
   ]
  },
  {
   "cell_type": "code",
   "execution_count": 4,
   "metadata": {},
   "outputs": [
    {
     "data": {
      "text/plain": [
       "1.5625"
      ]
     },
     "execution_count": 4,
     "metadata": {},
     "output_type": "execute_result"
    }
   ],
   "source": [
    "x1, x2 = 1.5, 2\n",
    "f = lambda x: x**2\n",
    "\n",
    "trap_area(x1=x1, x2=x2, f=f)"
   ]
  },
  {
   "cell_type": "code",
   "execution_count": 9,
   "metadata": {},
   "outputs": [
    {
     "name": "stdout",
     "output_type": "stream",
     "text": [
      "1.9835235375094546\n"
     ]
    }
   ],
   "source": [
    "a = 0\n",
    "b = math.pi\n",
    "n = 10\n",
    "dx = (b-a)/n\n",
    "N = np.arange(a, b, dx)\n",
    "\n",
    "f = lambda x: math.sin(x)\n",
    "\n",
    "sum = 0\n",
    "\n",
    "for x in N:\n",
    "    sum += trap_area(x, x+dx, f)\n",
    "\n",
    "print(sum)"
   ]
  },
  {
   "cell_type": "code",
   "execution_count": 12,
   "metadata": {},
   "outputs": [
    {
     "name": "stdout",
     "output_type": "stream",
     "text": [
      "0.8179381883600917\n"
     ]
    }
   ],
   "source": [
    "def gauss_pdf(x):\n",
    "    mu = 100\n",
    "    sigma = 10\n",
    "    y = 1/(sigma*math.sqrt(2*math.pi))*math.exp(-(x-mu)**2/(2*sigma**2))\n",
    "    return y\n",
    "\n",
    "a = 90\n",
    "b = 120\n",
    "n = 20\n",
    "dx = (b-a)/n\n",
    "N = np.arange(a, b, dx)\n",
    "\n",
    "sum = 0\n",
    "\n",
    "for x in N:\n",
    "    sum += trap_area(x, x+dx, gauss_pdf)\n",
    "\n",
    "print(sum)"
   ]
  },
  {
   "cell_type": "markdown",
   "metadata": {},
   "source": [
    "quadratic approximation:"
   ]
  },
  {
   "cell_type": "code",
   "execution_count": 16,
   "metadata": {},
   "outputs": [
    {
     "name": "stdout",
     "output_type": "stream",
     "text": [
      "n must be even!\n"
     ]
    }
   ],
   "source": [
    "n = 2\n",
    "if (n%2==1):\n",
    "    print('n must be even!')\n",
    "\n",
    "a = math.pi/4\n",
    "b = math.pi/2\n",
    "dx = (b-a)/n\n",
    "\n",
    "x = np.linspace(a, b, n+1)\n",
    "\n",
    "f = lambda x: math.sin(x)\n",
    "\n",
    "sum = 0\n",
    "\n",
    "for i in range(n+1):\n",
    "    if i==0 or i==n:\n",
    "        sum+= f(x[i])\n",
    "    if i>0 and i%2==1:\n",
    "        sum += 4*f(x[i])\n",
    "    if i<n+1 and i"
   ]
  },
  {
   "cell_type": "code",
   "execution_count": null,
   "metadata": {},
   "outputs": [],
   "source": []
  }
 ],
 "metadata": {
  "kernelspec": {
   "display_name": "slac_env",
   "language": "python",
   "name": "python3"
  },
  "language_info": {
   "codemirror_mode": {
    "name": "ipython",
    "version": 3
   },
   "file_extension": ".py",
   "mimetype": "text/x-python",
   "name": "python",
   "nbconvert_exporter": "python",
   "pygments_lexer": "ipython3",
   "version": "3.11.4"
  },
  "orig_nbformat": 4
 },
 "nbformat": 4,
 "nbformat_minor": 2
}
