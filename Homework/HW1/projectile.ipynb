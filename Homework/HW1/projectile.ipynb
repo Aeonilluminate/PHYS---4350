{
 "cells": [
  {
   "cell_type": "code",
   "execution_count": 19,
   "metadata": {},
   "outputs": [],
   "source": [
    "import numpy as np\n",
    "import matplotlib.pyplot as plt\n",
    "from matplotlib.animation import FuncAnimation"
   ]
  },
  {
   "cell_type": "code",
   "execution_count": 21,
   "metadata": {},
   "outputs": [
    {
     "data": {
      "image/png": "[encoded data removed]",
      "text/plain": [
       "<Figure size 640x480 with 1 Axes>"
      ]
     },
     "metadata": {},
     "output_type": "display_data"
    }
   ],
   "source": [
    "g = 9.8\n",
    "theta = np.pi/3\n",
    "rx, ry = 0, 0\n",
    "vx, vy = 50*np.cos(theta), 50*np.sin(theta)\n",
    "ax, ay = 0, -g\n",
    "t, dt = 0, 0.01\n",
    "\n",
    "x = []\n",
    "y = []\n",
    "\n",
    "i = 0\n",
    "while i == 0 or ry >= 0:\n",
    "    rx = 0.5*ax*t**2 + vx*t\n",
    "    ry = 0.5*ay*t**2 + vy*t\n",
    "    x.append(rx)\n",
    "    y.append(ry)\n",
    "    t += dt\n",
    "    i += 1\n",
    "\n",
    "fig, ax = plt.subplots()\n",
    "ax.set_xlim(0, max(x) + 10)\n",
    "ax.set_ylim(0, max(y) + 10)\n",
    "line, = ax.plot([], [], 'b-')\n",
    "point, = ax.plot([], [], 'ro')\n",
    "\n",
    "def init():\n",
    "    line.set_data([], [])\n",
    "    point.set_data([], [])\n",
    "    return line, point\n",
    "\n",
    "def update(frame):\n",
    "    line.set_data(x[:frame], y[:frame])\n",
    "    point.set_data(x[frame], y[frame])\n",
    "    return line, point\n",
    "\n",
    "ani = FuncAnimation(fig, update, frames=len(x), init_func=init, blit=True)\n",
    "\n",
    "plt.show()\n"
   ]
  },
  {
   "cell_type": "code",
   "execution_count": null,
   "metadata": {},
   "outputs": [],
   "source": []
  }
 ],
 "metadata": {
  "kernelspec": {
   "display_name": "slac_env",
   "language": "python",
   "name": "python3"
  },
  "language_info": {
   "codemirror_mode": {
    "name": "ipython",
    "version": 3
   },
   "file_extension": ".py",
   "mimetype": "text/x-python",
   "name": "python",
   "nbconvert_exporter": "python",
   "pygments_lexer": "ipython3",
   "version": "3.11.4"
  },
  "orig_nbformat": 4
 },
 "nbformat": 4,
 "nbformat_minor": 2
}
