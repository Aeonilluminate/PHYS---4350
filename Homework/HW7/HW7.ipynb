{
 "cells": [
  {
   "cell_type": "markdown",
   "metadata": {},
   "source": [
    "## Question 1\n",
    "\n",
    "In lecture, we used our Ising model simulation to calculate the specific heat per spin by considring the variance in the average energy. Recall however that specific heat is defined as the derivative of the average energy with respect to temperature: $$C=\\frac{d\\bar{E}}{dT}$$\n",
    "\n",
    "Using the Ising Model simulation developed in lecture, consider a system that starts out with all spins up. Assume $H=0$ and $J=1$ and use a $20\\times 20$ lattice. Calculate the specific heat per spin using the numerical derivative of the average energy with respect to the temperature. Plot the specific heat per spin calculated in this way as a function of temperature for temperatures between $T=\\frac{1}{k_B}$ to $T=\\frac{5}{k_b}$. Use the central difference for the numerical derivative, defined by Equation 5.95 in the textbook. Use $h=\\frac{0.1}{k_B}$. To get the specific heat at temperature $T_0$, you will need to calculate the average energy at temperatures of $T_0 + \\frac{h}{2}$ and $T_0 - \\frac{h}{2}$."
   ]
  },
  {
   "cell_type": "code",
   "execution_count": 2,
   "metadata": {},
   "outputs": [
    {
     "data": {
      "image/png": "[encoded data removed]",
      "text/plain": [
       "<Figure size 640x480 with 1 Axes>"
      ]
     },
     "metadata": {},
     "output_type": "display_data"
    }
   ],
   "source": [
    "import random as rd\n",
    "import numpy as np\n",
    "import math\n",
    "import matplotlib.pyplot as plt\n",
    "\n",
    "Temps = np.linspace(1,5,17)\n",
    "\n",
    "nsweeps=1000\n",
    "\n",
    "def Espin(a):\n",
    "    Jconst=1\n",
    "    #get number of rows and columns from input array\n",
    "    row,col=a.shape\n",
    "    s=0\n",
    "    for i in range(row):#loop over rows\n",
    "        for j in range(col):#sum over neighboring pairs in row i\n",
    "            c=j+1#calculate index of the column to the right of current column\n",
    "            #if we've reached the last column\n",
    "            #use the first column as the column to the right of the last entry\n",
    "            if c==col:\n",
    "                c=0\n",
    "            s+=a[i][j]*a[i][c]\n",
    "    for j in range(col):#loop over columns\n",
    "        for i in range(row):#sum over neighboring pairs in column j\n",
    "            r=i+1#calculate index of row below the current row\n",
    "            #if we've reached the last row\n",
    "            #use the first row as the row below the last entry\n",
    "            if r==row:\n",
    "                r=0\n",
    "            s+=a[i][j]*a[r][j]\n",
    "    return -Jconst*s\n",
    "\n",
    "def prob(d):\n",
    "    return math.exp(-d/T)\n",
    "\n",
    "def magnetization(a):\n",
    "    row,col=a.shape\n",
    "    return np.sum(a)/(row*col)\n",
    "\n",
    "\n",
    "\n",
    "#variable to store the average energy and average squared energy for each temperature\n",
    "E=[]\n",
    "E2=[]\n",
    "\n",
    "for T in Temps:\n",
    "    #Define starting lattice\n",
    "    n=20\n",
    "    lattice = np.zeros([n,n],int)\n",
    "    lattice += 1\n",
    "    Ecurrent=Espin(lattice)\n",
    "    en=0\n",
    "    en2=0\n",
    "    for k in range(nsweeps):\n",
    "        #Loop over each spin in lattice\n",
    "        for i in range(n):\n",
    "            for j in range(n):\n",
    "                rup=i-1#look at row above\n",
    "                if rup==-1:\n",
    "                    rup=n-1\n",
    "                rdown=i+1# look at row below\n",
    "                if rdown==n:\n",
    "                    rdown=0\n",
    "                cleft=j-1#look at column to the left\n",
    "                if cleft==-1:\n",
    "                    cleft=n-1\n",
    "                cright=j+1#look at column to the right\n",
    "                if cright==n:\n",
    "                    cright=0\n",
    "                deltaE = 2*lattice[i][j]*(lattice[rup][j] + lattice[rdown][j] + lattice[i][cleft] + lattice[i][cright])\n",
    "                if deltaE<0:#flip it\n",
    "                    lattice[i][j] *= -1\n",
    "                    Ecurrent += deltaE\n",
    "                else:#maybe we flip it?\n",
    "                    if rd.random()<prob(deltaE):\n",
    "                        lattice[i][j] *= -1\n",
    "                        Ecurrent += deltaE\n",
    "        en += Ecurrent\n",
    "        en2 += Ecurrent**2\n",
    "    E.append(en/nsweeps)\n",
    "    E2.append(en2/nsweeps)\n",
    "\n",
    "sph=[]\n",
    "for i in range(len(Temps)):\n",
    "    sigma2=(E2[i]-E[i]**2)\n",
    "    c=sigma2/(Temps[i]**2)\n",
    "    sph.append(c/(n**2))#normalized per spin\n",
    "\n",
    "plt.plot(Temps,sph,lw=0,marker=\"o\")\n",
    "label=r'Temperature (1/$k_B$)'\n",
    "plt.xlabel(label)\n",
    "plt.ylabel(\"Specific Heat per spin\")\n",
    "plt.ylim(-0.1,1.9)\n",
    "plt.savefig(\"CvsT.png\")\n",
    "plt.show()\n"
   ]
  },
  {
   "cell_type": "code",
   "execution_count": null,
   "metadata": {},
   "outputs": [],
   "source": []
  }
 ],
 "metadata": {
  "kernelspec": {
   "display_name": "slac_env",
   "language": "python",
   "name": "python3"
  },
  "language_info": {
   "codemirror_mode": {
    "name": "ipython",
    "version": 3
   },
   "file_extension": ".py",
   "mimetype": "text/x-python",
   "name": "python",
   "nbconvert_exporter": "python",
   "pygments_lexer": "ipython3",
   "version": "3.11.4"
  }
 },
 "nbformat": 4,
 "nbformat_minor": 2
}
