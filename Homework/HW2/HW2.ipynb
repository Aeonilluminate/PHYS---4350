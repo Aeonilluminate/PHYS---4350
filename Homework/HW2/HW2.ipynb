{
 "cells": [
  {
   "cell_type": "code",
   "execution_count": 1,
   "metadata": {},
   "outputs": [],
   "source": [
    "import numpy as np\n",
    "import math"
   ]
  },
  {
   "cell_type": "markdown",
   "metadata": {},
   "source": [
    "Problem 1"
   ]
  },
  {
   "cell_type": "code",
   "execution_count": 9,
   "metadata": {},
   "outputs": [
    {
     "name": "stdout",
     "output_type": "stream",
     "text": [
      "Trapezoidal Approximation =  3.850400000000003 \t Error Estimate =  0.05723333333333332\n",
      "Simpson Approximation =  4.028066666666671 \t Error Estimate =  0.0007733333333333666\n"
     ]
    }
   ],
   "source": [
    "def trap_area(y1, y2, h):\n",
    "    return 0.5*(y1 + y2)*h\n",
    "\n",
    "def simp_area(y, h, k):\n",
    "    if k%2 != 0:\n",
    "        return 4*y*h\n",
    "    else:\n",
    "        return 2*y*h\n",
    "\n",
    "data = np.loadtxt('hw2.txt', float)\n",
    "X2 = data[:, 0]\n",
    "X1 = X2[::2]\n",
    "Y2 = data[:, 1]\n",
    "Y1 = Y2[::2]\n",
    "\n",
    "dx2 = X2[1] - X2[0]\n",
    "dx1 = X1[1] - X1[0]\n",
    "I_trap1, I_trap2 = 0, 0\n",
    "I_simp1, I_simp2 = 0, 0\n",
    "\n",
    "N2, N1 = len(Y2) - 1, len(Y1) - 1\n",
    "\n",
    "# Trapezoidal Approximation\n",
    "y_prev = Y2[0]\n",
    "for y in Y2[1:]:\n",
    "    I_trap2 += trap_area(y1=y_prev, y2=y, h=dx2)\n",
    "    y_prev = y\n",
    "\n",
    "y_prev = Y1[0]\n",
    "for y in Y1[1:]:\n",
    "    I_trap1 += trap_area(y1=y_prev, y2=y, h=dx1)\n",
    "    y_prev = y\n",
    "\n",
    "trap_error = 1/3*(I_trap2 - I_trap1)\n",
    "\n",
    "# Simpson Approximation\n",
    "for k, y in enumerate(Y2):\n",
    "    if k == 0 or k == N2:\n",
    "        I_simp2 += y \n",
    "    if k > 0 and k%2 == 1:\n",
    "        I_simp2 += 4*y\n",
    "    if k > 0 and k < N2 and k%2 == 0:\n",
    "        I_simp2 += 2*y\n",
    "I_simp2 = I_simp2*dx2/3\n",
    "\n",
    "for k, y in enumerate(Y1):\n",
    "    if k == 0 or k == N1:\n",
    "        I_simp1 += y \n",
    "    if k > 0 and k%2 == 1:\n",
    "        I_simp1 += 4*y\n",
    "    if k > 0 and k < N1 and k%2 == 0:\n",
    "        I_simp1 += 2*y\n",
    "I_simp1 = I_simp1*dx1/3\n",
    "\n",
    "simp_error = 1/15*(I_simp2 - I_simp1)\n",
    "\n",
    "print('Trapezoidal Approximation = ', I_trap2, '\\t Error Estimate = ', trap_error)\n",
    "print('Simpson Approximation = ', I_simp2, '\\t Error Estimate = ', simp_error)"
   ]
  },
  {
   "cell_type": "markdown",
   "metadata": {},
   "source": [
    "Problem 2"
   ]
  },
  {
   "cell_type": "code",
   "execution_count": 8,
   "metadata": {},
   "outputs": [
    {
     "name": "stdout",
     "output_type": "stream",
     "text": [
      "\n",
      "Final approximation = 3.8016440619518694,\n",
      "Number of slices = 262144,\n",
      "Error Estimate = 8.799612274993743e-06\n"
     ]
    }
   ],
   "source": [
    "def f(x):\n",
    "    return (x**3 + 1)*math.exp(-x)\n",
    "\n",
    "target_epsilon = 1e-5\n",
    "\n",
    "a, b = -1, 1\n",
    "N1 = 2\n",
    "dx1 = (b - a)/N1\n",
    "\n",
    "S1 = 0\n",
    "T1 = 0\n",
    "for k in range(1, N1+1):\n",
    "    if k == 1:\n",
    "        S1 += f(a)\n",
    "    if k == N1:\n",
    "        S1 += f(b) \n",
    "    if k > 1 and k < N1 and k%2 == 0:\n",
    "        S1 += 2*f(a + k*dx1)\n",
    "    if k > 1 and k < N1 and k%2 == 1:\n",
    "        T1 += 2/3*f(a + k*dx1)\n",
    "S1 = S1/3\n",
    "I1 = dx1*(S1 + 2*T1)\n",
    "\n",
    "N_old, N_new = N1, 0\n",
    "dx_old, dx_new = dx1, 0\n",
    "I_old, I_new = I1, 0\n",
    "S_old, S_new = S1, 0\n",
    "T_old, T_new = T1, 0\n",
    "epsilon = 1000.\n",
    "\n",
    "while epsilon > target_epsilon:\n",
    "    N_new = N_old*2\n",
    "    dx_new = dx_old/2\n",
    "    S_new = S_old + T_old\n",
    "    for k in range(1, N_new, 2):\n",
    "        T_new += 2/3*f(a + k*dx_new)  \n",
    "    I_new = dx_new*(S_new + 2*T_new)\n",
    "    epsilon = 1/15*(I_new - I_old)\n",
    "    N_old, dx_old, S_old, T_old, I_old = N_new, dx_new, S_new, T_new, I_new\n",
    "\n",
    "print(f'''\n",
    "Final approximation = {I_new},\n",
    "Number of slices = {N_new},\n",
    "Error Estimate = {epsilon}''')"
   ]
  },
  {
   "cell_type": "code",
   "execution_count": null,
   "metadata": {},
   "outputs": [],
   "source": []
  }
 ],
 "metadata": {
  "kernelspec": {
   "display_name": "slac_env",
   "language": "python",
   "name": "python3"
  },
  "language_info": {
   "codemirror_mode": {
    "name": "ipython",
    "version": 3
   },
   "file_extension": ".py",
   "mimetype": "text/x-python",
   "name": "python",
   "nbconvert_exporter": "python",
   "pygments_lexer": "ipython3",
   "version": "3.11.4"
  },
  "orig_nbformat": 4
 },
 "nbformat": 4,
 "nbformat_minor": 2
}
