{
 "cells": [
  {
   "cell_type": "code",
   "execution_count": null,
   "metadata": {},
   "outputs": [],
   "source": []
  },
  {
   "cell_type": "markdown",
   "metadata": {},
   "source": [
    "## Question 1\n",
    "\n",
    "Using the Ising Model simulation developed in lecture, consider a system that starts\n",
    "out with a magnetization close to 0. (Initialize your lattice by assuming each spin has\n",
    "an equal probability of being up or down.) Estimate the probability that the system\n",
    "spontaneously magnetizes. Let’s call the material magnetized if the average normalized\n",
    "magnetization over $1000$ sweeps of the lattice is greater than $90%$, i.e. $|M_{\\text{avg}}| > 0.9$\n",
    "(absolute value because spins could be mostly up or mostly down). Assume there is no\n",
    "external magnetic field $(H = 0)$.\n",
    "\n",
    "$\\\\$\n",
    "$\\\\$\n",
    "To calculate the probability, you will need to run this simulation for $n$ trials, and\n",
    "calculate for what fraction of those trials the material becomes magnetized. One trial\n",
    "is $1000$ sweeps over the lattice, after initializing the lattice to have a magnetization\n",
    "close to zero. Please turn in a text file with your numerical results for the\n",
    "probabilities below.\n",
    "\n",
    "$\\\\$\n",
    "$\\\\$\n",
    "(a) Compute the probability for different temperatures, $T = \\frac{1}{kB}$ vs $T = \\frac{3}{kB}$ , for a\n",
    "$20 \\times 20$ lattice.\n",
    "\n",
    "$\\\\$\n",
    "$\\\\$\n",
    "(b) Compute the probability for different lattice size, 10 × 10 vs 20 × 20 vs 40 × 40,\n",
    "for a temperature of T = 1/kB ."
   ]
  },
  {
   "cell_type": "code",
   "execution_count": 26,
   "metadata": {},
   "outputs": [
    {
     "data": {
      "image/png": "[encoded data removed]",
      "text/plain": [
       "<Figure size 1000x600 with 1 Axes>"
      ]
     },
     "metadata": {},
     "output_type": "display_data"
    }
   ],
   "source": [
    "import random as rd\n",
    "import numpy as np\n",
    "import math\n",
    "import matplotlib.pyplot as plt\n",
    "\n",
    "Temps = [1, 3]\n",
    "#print(\"Temperatures: \",T)\n",
    "\n",
    "ntrials=20\n",
    "nsweeps=1000\n",
    "\n",
    "SIMULATION_DATA = {}\n",
    "for temp in Temps:\n",
    "    SIMULATION_DATA[temp] = []\n",
    "\n",
    "def Espin(a):\n",
    "    Jconst=1\n",
    "    #get number of rows and columns from input array\n",
    "    row,col=a.shape\n",
    "    s=0\n",
    "    for i in range(row):#loop over rows\n",
    "        for j in range(col):#sum over neighboring pairs in row i\n",
    "            c=j+1#calculate index of the column to the right of current column\n",
    "            #if we've reached the last column\n",
    "            #use the first column as the column to the right of the last entry\n",
    "            if c==col:\n",
    "                c=0\n",
    "            s+=a[i][j]*a[i][c]\n",
    "    for j in range(col):#loop over columns\n",
    "        for i in range(row):#sum over neighboring pairs in column j\n",
    "            r=i+1#calculate index of row below the current row\n",
    "            #if we've reached the last row\n",
    "            #use the first row as the row below the last entry\n",
    "            if r==row:\n",
    "                r=0\n",
    "            s+=a[i][j]*a[r][j]\n",
    "    return -Jconst*s\n",
    "\n",
    "def prob(d):\n",
    "    return math.exp(-d/T)\n",
    "\n",
    "def magnetization(a):\n",
    "    row,col=a.shape\n",
    "    return np.sum(a)/(row*col)\n",
    "\n",
    "\n",
    "#variable to store the average magnetization for each temperature\n",
    "M=[]\n",
    "\n",
    "for trial in range(ntrials):\n",
    "    for T in Temps:\n",
    "        #Define starting lattice\n",
    "        n=20\n",
    "        lattice = np.ones([n,n],int)\n",
    "        for i in range(n):\n",
    "            for j in range(n):\n",
    "                lattice[i][j] -= 2\n",
    "        Ecurrent=Espin(lattice)\n",
    "        mag=magnetization(lattice)\n",
    "        for k in range(nsweeps):\n",
    "            #Loop over each spin in lattice\n",
    "            for i in range(n):\n",
    "                for j in range(n):\n",
    "                    rup=i-1#look at row above\n",
    "                    if rup==-1:\n",
    "                        rup=n-1\n",
    "                    rdown=i+1# look at row below\n",
    "                    if rdown==n:\n",
    "                        rdown=0\n",
    "                    cleft=j-1#look at column to the left\n",
    "                    if cleft==-1:\n",
    "                        cleft=n-1\n",
    "                    cright=j+1#look at column to the right\n",
    "                    if cright==n:\n",
    "                        cright=0\n",
    "                    deltaE = 2*lattice[i][j]*(lattice[rup][j] + lattice[rdown][j] + lattice[i][cleft] + lattice[i][cright])\n",
    "                    if deltaE<0:#flip it\n",
    "                        lattice[i][j] *= -1\n",
    "                        Ecurrent += deltaE\n",
    "                    else:#maybe we flip it?\n",
    "                        if rd.random()<prob(deltaE):\n",
    "                            lattice[i][j] *= -1\n",
    "                            Ecurrent += deltaE\n",
    "            mag+=magnetization(lattice)\n",
    "        SIMULATION_DATA[T].append(mag/nsweeps)\n",
    "\n",
    "# plt.plot(Temps,M,lw=0,marker=\"o\")\n",
    "# label=r'Temperature (1/$k_B$)'\n",
    "# plt.xlabel(label)\n",
    "# plt.ylabel(\"Magnetization\")\n",
    "# plt.ylim(-0.2,1.1)\n",
    "# plt.savefig(\"MvsT.png\")\n",
    "# plt.show()\n",
    "\n",
    "index = list(range(1, ntrials + 1))\n",
    "\n",
    "plt.figure(1, figsize=(10, 6))\n",
    "\n",
    "markers = ['o', 'x']\n",
    "for i  in range(len(Temps)):\n",
    "    plt.plot(index, SIMULATION_DATA[Temps[i]], label = f'T = {Temps[i]}/kb', marker = markers[i])\n",
    "\n",
    "plt.xlabel('Trial Number')\n",
    "plt.ylabel('Magnetization')\n",
    "plt.legend()\n",
    "\n",
    "plt.show()\n"
   ]
  },
  {
   "cell_type": "code",
   "execution_count": 19,
   "metadata": {},
   "outputs": [
    {
     "name": "stdout",
     "output_type": "stream",
     "text": [
      "[12, 74, 77, 100, 97, 78, 36, 68, 39, 46, 77, 29, 65, 89, 3, 53, 60, 14, 85, 73, 97, 51, 22, 24, 72, 25, 98, 38, 6, 87, 64, 12, 72, 50, 38, 32, 65, 28, 75, 93, 2, 35, 47, 14, 10, 99, 75, 11, 67, 54, 21, 45, 28, 54, 50, 14, 71, 96, 58, 72, 62, 92, 25, 38, 19, 30, 91, 29, 94, 76, 36, 22, 93, 21, 97, 85, 65, 77, 91, 6, 55, 56, 100, 64, 100, 37, 41, 97, 23, 61, 30, 11, 69, 92, 30, 33, 4, 69, 58, 2]\n"
     ]
    }
   ],
   "source": [
    "nums = [1, 4]\n",
    "\n",
    "test = {}\n",
    "for num in nums:\n",
    "    test[num] = []\n",
    "\n",
    "\n",
    "for i in range(100):\n",
    "    for num in nums:\n",
    "        entry = rd.randint(1, 100)\n",
    "        test[num].append(entry)\n",
    "\n",
    "\n",
    "print(test[4])"
   ]
  },
  {
   "cell_type": "code",
   "execution_count": 8,
   "metadata": {},
   "outputs": [
    {
     "data": {
      "text/plain": [
       "array([[0.90152613, 0.19074591, 0.72072126],\n",
       "       [0.17968743, 0.21283355, 0.08144884],\n",
       "       [0.64158592, 0.32043591, 0.72436636]])"
      ]
     },
     "execution_count": 8,
     "metadata": {},
     "output_type": "execute_result"
    }
   ],
   "source": [
    "lattice"
   ]
  },
  {
   "cell_type": "code",
   "execution_count": 10,
   "metadata": {},
   "outputs": [
    {
     "name": "stdout",
     "output_type": "stream",
     "text": [
      "[0.90152613 0.19074591 0.72072126]\n",
      "[0.17968743 0.21283355 0.08144884]\n",
      "[0.64158592 0.32043591 0.72436636]\n",
      "[0.90152613 0.19074591 0.72072126]\n",
      "[0.17968743 0.21283355 0.08144884]\n",
      "[0.64158592 0.32043591 0.72436636]\n",
      "[0.90152613 0.19074591 0.72072126]\n",
      "[0.17968743 0.21283355 0.08144884]\n",
      "[0.64158592 0.32043591 0.72436636]\n"
     ]
    }
   ],
   "source": [
    "for"
   ]
  },
  {
   "cell_type": "code",
   "execution_count": null,
   "metadata": {},
   "outputs": [],
   "source": []
  }
 ],
 "metadata": {
  "kernelspec": {
   "display_name": "slac_env",
   "language": "python",
   "name": "python3"
  },
  "language_info": {
   "codemirror_mode": {
    "name": "ipython",
    "version": 3
   },
   "file_extension": ".py",
   "mimetype": "text/x-python",
   "name": "python",
   "nbconvert_exporter": "python",
   "pygments_lexer": "ipython3",
   "version": "3.11.4"
  }
 },
 "nbformat": 4,
 "nbformat_minor": 2
}
